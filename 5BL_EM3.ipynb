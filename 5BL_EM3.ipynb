{
 "cells": [
  {
   "cell_type": "markdown",
   "metadata": {},
   "source": [
    "In the four cells below, we will be looking at the errors in A and Tau for Part 1 of the Analysis. Note there is no need to use Scipy, since the partial derivatives can just be found separately, and we can plug the values of V_o and V_c into the resulting formulas."
   ]
  },
  {
   "cell_type": "code",
   "execution_count": 50,
   "metadata": {},
   "outputs": [],
   "source": [
    "def error_in_tau(C, R, error_r, error_c):\n",
    "    error_tau = np.sqrt((C*error_r)**2 + (R*error_c)**2)\n",
    "    return(error_tau)"
   ]
  },
  {
   "cell_type": "code",
   "execution_count": 51,
   "metadata": {},
   "outputs": [],
   "source": [
    "def error_in_a(part_a, error_tau):\n",
    "    error_a = np.sqrt((part_a * error_tau)**2)\n",
    "    return(error_a)"
   ]
  },
  {
   "cell_type": "code",
   "execution_count": 52,
   "metadata": {},
   "outputs": [],
   "source": [
    "values_of_Vc = [0.0384, 0.0768, 1.705, 0.376, 0.7556, 0.19, 2.774, 3.552, 3.964, 3.933, 3.971]\n",
    "values_of_V0 = [3.892, 3.895, 3.88, 3.892, 3.891, 3.89, 3.978, 3.96, 4.048, 4.007, 4.01]\n",
    "values_of_w  = [10000, 5000, 200, 1000, 500, 2000, 100, 50, 10, 20, 5]"
   ]
  },
  {
   "cell_type": "code",
   "execution_count": 59,
   "metadata": {},
   "outputs": [
    {
     "name": "stdout",
     "output_type": "stream",
     "text": [
      "The errors in A for the different V_c/V_o are: \n",
      "[0.010441711591513721, 0.010365101075168729, 0.002678594176904397, 0.008525912144239657, 0.006179142835750448, 0.009829501906233006, 0.0010971791345797692, 0.0003557683170820486, 1.5578003950107327e-05, 6.243624425812486e-05, 3.938681191988678e-06]\n",
      "---------------------\n",
      "The error in Tau is always the same: \n",
      "0.00010606601717798212\n"
     ]
    }
   ],
   "source": [
    "errors_in_a = []\n",
    "for i in range(len(values_of_Vc)):\n",
    "    w = values_of_w[i]\n",
    "    t = R*C\n",
    "    C = 1*10**(-6)\n",
    "    R = 1500\n",
    "    error_r = 75\n",
    "    error_c = 5/100 * C\n",
    "    error_tau = error_in_tau(C, R, error_r, error_c)\n",
    "    h = (values_of_Vc[i] / values_of_V0[i])\n",
    "    part_a = (h * w**2 * t)/np.sqrt(1 + w**2 * t**2)\n",
    "    errors_in_a.append(error_in_a(part_a, error_tau))\n",
    "\n",
    "print('The errors in A for the different V_c/V_o are: ')\n",
    "print(errors_in_a)\n",
    "print('---------------------')\n",
    "print('The error in Tau is always the same: ')\n",
    "print(error_tau)"
   ]
  },
  {
   "cell_type": "markdown",
   "metadata": {},
   "source": [
    "In the four cells below, we will be looking at the errors in A and Tau for Part 3 of the Analysis. Note there is no need to use Scipy, since the partial derivatives can just be found separately, and we can plug the values of V_o and V_L into the resulting formulas. "
   ]
  },
  {
   "cell_type": "code",
   "execution_count": 63,
   "metadata": {},
   "outputs": [],
   "source": [
    "def error_in_tau_new(L, R, error_r, error_L):\n",
    "    error_tau_part3 = np.sqrt(((1/R)*error_L)**2 + ((-L/R**2)*error_r)**2)\n",
    "    return(error_tau_part3)"
   ]
  },
  {
   "cell_type": "code",
   "execution_count": 64,
   "metadata": {},
   "outputs": [],
   "source": [
    "def error_in_a_new(part_a_new, error_tau_part3):\n",
    "    error_a_part3 = np.sqrt((part_a_new * error_tau_part3)**2)\n",
    "    return(error_a_part3)"
   ]
  },
  {
   "cell_type": "code",
   "execution_count": 71,
   "metadata": {},
   "outputs": [],
   "source": [
    "values_of_VL     = [0.0226, 0.0228, 0.02328, 0.025, 0.0311, 0.0472, 0.1076, 0.208, 0.4175, 1.012, 1.82, 2.851, 3.728, 3.9]\n",
    "values_of_V0_new = [3.685, 3.685, 3.685, 3.685, 3.686, 3.684, 3.684, 3.683, 3.684, 3.729, 3.762, 3.891, 3.974, 4.07]\n",
    "values_of_w_new  = [5, 10, 20, 50, 100, 200, 500, 1000, 2000, 5000, 10000, 20000, 50000, 100000]"
   ]
  },
  {
   "cell_type": "code",
   "execution_count": 73,
   "metadata": {},
   "outputs": [
    {
     "name": "stdout",
     "output_type": "stream",
     "text": [
      "The errors in A for the different V_c/V_o are: \n",
      "[2.6366699103211337e-18, 2.1280026171040397e-17, 1.738242135200922e-16, 2.916670219343931e-15, 2.901882610319883e-14, 3.525226952999338e-13, 1.255674090045336e-11, 1.942380401261644e-10, 3.1181221259599636e-09, 1.166593773835156e-07, 1.663084493208019e-06, 2.0121005759420457e-05, 0.0003984441507822935, 0.003144913286476953]\n",
      "---------------------\n",
      "The error in Tau is always the same: \n",
      "3.5031731647496704e-07\n"
     ]
    }
   ],
   "source": [
    "errors_in_a_new = []\n",
    "for i in range(len(values_of_VL)):\n",
    "    w = values_of_w_new[i]\n",
    "    L = 4.7 * 10**(-3)\n",
    "    R = 1500\n",
    "    t = L/R\n",
    "    error_r = 75\n",
    "    error_L = 0.1 * 4.7 * 10**(-3)\n",
    "    error_tau_new = error_in_tau_new(L, R, error_r, error_L)\n",
    "    h = (values_of_VL[i] / values_of_V0_new[i])\n",
    "    part_a_new = (h * w**3 * t**2)/np.sqrt(1 + w**2 * t**2)\n",
    "    errors_in_a_new.append(error_in_a_new(part_a_new, error_tau_new))\n",
    "\n",
    "print('The errors in A for the different V_c/V_o are: ')\n",
    "print(errors_in_a_new)\n",
    "print('---------------------')\n",
    "print('The error in Tau is always the same: ')\n",
    "print(error_tau_new)"
   ]
  }
 ],
 "metadata": {
  "kernelspec": {
   "display_name": "Python 3",
   "language": "python",
   "name": "python3"
  },
  "language_info": {
   "codemirror_mode": {
    "name": "ipython",
    "version": 3
   },
   "file_extension": ".py",
   "mimetype": "text/x-python",
   "name": "python",
   "nbconvert_exporter": "python",
   "pygments_lexer": "ipython3",
   "version": "3.8.3"
  }
 },
 "nbformat": 4,
 "nbformat_minor": 4
}
